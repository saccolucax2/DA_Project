{
 "cells": [
  {
   "cell_type": "code",
   "id": "c40815f3a319ce57",
   "metadata": {
    "ExecuteTime": {
     "end_time": "2025-05-22T16:29:43.826056Z",
     "start_time": "2025-05-22T16:29:43.796953Z"
    }
   },
   "source": [
    "import pandas as pd\n",
    "from sklearn.cluster import KMeans\n",
    "from sklearn.preprocessing import StandardScaler\n",
    "\n",
    "# Carica il dataset\n",
    "dataset = pd.read_csv(r\"C:\\Users\\simon\\OneDrive\\Desktop\\estat_sts_copi_a_en.csv\\estat_sts_copi_a_en.csv\")\n",
    "\n",
    "dataset1 = dataset[dataset['indic_bt'] == 'CONST']\n",
    "\n",
    "# Elimina le colonne specificate\n",
    "dataset1 = dataset1.drop(columns=['DATAFLOW', 'LAST UPDATE','s_adj', 'freq', 'cpa2_1', 'CONF_STATUS'])\n",
    "\n",
    "# Filtra le righe dove OBS_FLAG è vuoto (rimuove righe con flag)\n",
    "#dataset = dataset[dataset['OBS_FLAG'].isna() | (dataset['OBS_FLAG'] == '')]\n",
    "\n",
    "dataset1=dataset1.drop(columns=['OBS_FLAG'])\n",
    "\n",
    "\n",
    "dataset1 = dataset1.fillna(dataset.mean(numeric_only=True))\n",
    "\n",
    "print(dataset1)"
   ],
   "outputs": [
    {
     "name": "stdout",
     "output_type": "stream",
     "text": [
      "Empty DataFrame\n",
      "Columns: [indic_bt, unit, geo, TIME_PERIOD, OBS_VALUE]\n",
      "Index: []\n"
     ]
    }
   ],
   "execution_count": 39
  },
  {
   "metadata": {
    "ExecuteTime": {
     "end_time": "2025-05-22T16:26:00.013220600Z",
     "start_time": "2025-05-22T16:22:01.198715Z"
    }
   },
   "cell_type": "code",
   "source": [
    "\n",
    "# Crea la colonna 'serie' solo con 'geo' (dato che cpa2_1 è eliminata)\n",
    "dataset1['serie'] = dataset1['geo']\n",
    "\n",
    "\n",
    "# Crea la tabella pivot\n",
    "pivot_df = dataset1.pivot_table(index='TIME_PERIOD', columns='serie', values='OBS_VALUE')\n",
    "\n",
    "print(pivot_df)"
   ],
   "id": "5a5d25817a3d3773",
   "outputs": [
    {
     "name": "stdout",
     "output_type": "stream",
     "text": [
      "serie               AL         AT         BA         BE          BG  \\\n",
      "TIME_PERIOD                                                           \n",
      "1954               NaN        NaN        NaN        NaN         NaN   \n",
      "1955               NaN        NaN        NaN        NaN         NaN   \n",
      "1956               NaN        NaN        NaN        NaN         NaN   \n",
      "1957               NaN        NaN        NaN        NaN         NaN   \n",
      "1958               NaN        NaN        NaN        NaN         NaN   \n",
      "...                ...        ...        ...        ...         ...   \n",
      "2020         66.700000  68.650000  66.700000  68.733333   69.066667   \n",
      "2021         68.533333  77.333333  72.100000  73.966667   79.866667   \n",
      "2022         74.366667  87.766667  88.366667  86.600000  135.333333   \n",
      "2023         57.850000  88.683333  88.033333  63.850000  141.533333   \n",
      "2024         57.900000  61.400000        NaN  63.350000   95.650000   \n",
      "\n",
      "serie               CH         CY         CZ         DE         DK  ...  \\\n",
      "TIME_PERIOD                                                         ...   \n",
      "1954               NaN        NaN        NaN        NaN        NaN  ...   \n",
      "1955               NaN        NaN        NaN        NaN        NaN  ...   \n",
      "1956               NaN        NaN        NaN        NaN        NaN  ...   \n",
      "1957               NaN        NaN        NaN        NaN        NaN  ...   \n",
      "1958               NaN        NaN        NaN        NaN        NaN  ...   \n",
      "...                ...        ...        ...        ...        ...  ...   \n",
      "2020         66.566667  65.400000  70.516667  70.416667  67.566667  ...   \n",
      "2021         68.433333  72.433333  76.866667  77.050000  71.333333  ...   \n",
      "2022         75.133333  81.366667  92.583333  90.633333  80.333333  ...   \n",
      "2023         76.933333  58.500000  63.625000  83.060000  59.700000  ...   \n",
      "2024         55.500000  58.200000  62.250000  63.300000  59.150000  ...   \n",
      "\n",
      "serie               PL         PT          RO     RS         SE         SI  \\\n",
      "TIME_PERIOD                                                                  \n",
      "1954               NaN        NaN         NaN    NaN        NaN        NaN   \n",
      "1955               NaN        NaN         NaN    NaN        NaN        NaN   \n",
      "1956               NaN        NaN         NaN    NaN        NaN        NaN   \n",
      "1957               NaN        NaN         NaN    NaN        NaN        NaN   \n",
      "1958               NaN        NaN         NaN    NaN        NaN        NaN   \n",
      "...                ...        ...         ...    ...        ...        ...   \n",
      "2020         69.933333  68.700000   75.366667  46.70  68.633333  67.500000   \n",
      "2021         73.566667  74.566667   87.033333  54.40  75.100000  77.866667   \n",
      "2022         86.066667  85.300000  106.000000  65.60  86.033333  89.800000   \n",
      "2023         67.300000  85.633333  115.333333  66.85  86.766667  65.050000   \n",
      "2024         68.350000  61.850000   75.500000  71.10  60.150000  65.500000   \n",
      "\n",
      "serie                SK      TR      UA  UK  \n",
      "TIME_PERIOD                                  \n",
      "1954                NaN     NaN     NaN NaN  \n",
      "1955                NaN     NaN     NaN NaN  \n",
      "1956                NaN     NaN     NaN NaN  \n",
      "1957                NaN     NaN     NaN NaN  \n",
      "1958                NaN     NaN     NaN NaN  \n",
      "...                 ...     ...     ...  ..  \n",
      "2020          71.866667   99.60     NaN NaN  \n",
      "2021          75.400000  147.60  100.00 NaN  \n",
      "2022          97.133333  300.90   77.80 NaN  \n",
      "2023         103.733333  195.75   82.45 NaN  \n",
      "2024          74.400000  276.55   85.10 NaN  \n",
      "\n",
      "[71 rows x 40 columns]\n"
     ]
    }
   ],
   "execution_count": 34
  },
  {
   "metadata": {
    "ExecuteTime": {
     "end_time": "2025-05-22T16:26:00.015231500Z",
     "start_time": "2025-05-22T16:22:01.274060Z"
    }
   },
   "cell_type": "code",
   "source": [
    "\n",
    "## 1. Trasposizione\n",
    "data = pivot_df.T\n",
    "\n",
    "# 2. Rimuove righe completamente vuote\n",
    "data = data.dropna(how='all')\n",
    "\n",
    "# 3. Imputazione: riempi i NaN con la media di ogni riga\n",
    "data_filled = data.apply(lambda row: row.fillna(row.mean()), axis=1)\n",
    "\n",
    "# 4. Rimuovi righe che ancora hanno tutti NaN (es. Media era NaN)\n",
    "data_filled = data_filled.dropna()\n",
    "\n",
    "# 5. Controlla che siano rimaste almeno 2 righe\n",
    "if data_filled.shape[0] < 2:\n",
    "    print(\"Errore: troppo poche righe per il clustering.\")\n",
    "else:\n",
    "    # 6. Standardizzazione\n",
    "    from sklearn.preprocessing import StandardScaler\n",
    "    scaler = StandardScaler()\n",
    "    data_scaled = scaler.fit_transform(data_filled)\n",
    "\n",
    "    # 7. Clustering con silhouette\n",
    "    from sklearn.cluster import KMeans\n",
    "    from sklearn.metrics import silhouette_score\n",
    "\n",
    "    best_k = 10\n",
    "    best_score = -1\n",
    "\n",
    "    for k in range(2, min(11, data_scaled.shape[0] + 1)):\n",
    "        kmeans = KMeans(n_clusters=k, random_state=42, n_init=10)\n",
    "        labels = kmeans.fit_predict(data_scaled)\n",
    "        score = silhouette_score(data_scaled, labels)\n",
    "        print(f\"Silhouette score per k={k}: {score:.3f}\")\n",
    "\n",
    "        if score > best_score:\n",
    "            best_score = score\n",
    "            best_k = k\n",
    "\n",
    "    print(f\"\\nMiglior numero di cluster: {best_k} con Silhouette Score = {best_score:.3f}\")\n",
    "\n",
    "    # Applica KMeans finale\n",
    "    kmeans = KMeans(n_clusters=best_k, random_state=42, n_init=10)\n",
    "    labels = kmeans.fit_predict(data_scaled)\n",
    "\n",
    "\n"
   ],
   "id": "80aff56c5e8bc292",
   "outputs": [
    {
     "name": "stdout",
     "output_type": "stream",
     "text": [
      "Silhouette score per k=2: 0.461\n",
      "Silhouette score per k=3: 0.483\n",
      "Silhouette score per k=4: 0.474\n",
      "Silhouette score per k=5: 0.313\n",
      "Silhouette score per k=6: 0.341\n",
      "Silhouette score per k=7: 0.312\n",
      "Silhouette score per k=8: 0.332\n",
      "Silhouette score per k=9: 0.291\n",
      "Silhouette score per k=10: 0.261\n",
      "\n",
      "Miglior numero di cluster: 3 con Silhouette Score = 0.483\n"
     ]
    }
   ],
   "execution_count": 35
  },
  {
   "metadata": {
    "ExecuteTime": {
     "end_time": "2025-05-22T16:26:00.016232Z",
     "start_time": "2025-05-22T16:22:01.754770Z"
    }
   },
   "cell_type": "code",
   "source": [
    "# Crea un DataFrame con le serie originali\n",
    "clustered_df = pd.DataFrame(data_filled)\n",
    "clustered_df['cluster'] = labels\n"
   ],
   "id": "5b9087cbdc0a005",
   "outputs": [],
   "execution_count": 36
  },
  {
   "metadata": {
    "ExecuteTime": {
     "end_time": "2025-05-22T16:26:00.018238Z",
     "start_time": "2025-05-22T16:22:01.822172Z"
    }
   },
   "cell_type": "code",
   "source": [
    "for i in range(kmeans.n_clusters):\n",
    "    print(f\"\\nCluster {i}\")\n",
    "    print(clustered_df[clustered_df['cluster'] == i].index.tolist())\n"
   ],
   "id": "7a513eac140079e4",
   "outputs": [
    {
     "name": "stdout",
     "output_type": "stream",
     "text": [
      "\n",
      "Cluster 0\n",
      "['AL', 'AT', 'BE', 'BG', 'CH', 'CY', 'CZ', 'DK', 'EE', 'EL', 'EU27_2020', 'FI', 'HR', 'HU', 'IE', 'IT', 'LT', 'LU', 'LV', 'ME', 'MK', 'MT', 'NL', 'NO', 'PL', 'PT', 'RO', 'SE', 'SI', 'SK', 'TR']\n",
      "\n",
      "Cluster 1\n",
      "['DE', 'EA19', 'EA20', 'ES', 'FR', 'RS', 'UK']\n",
      "\n",
      "Cluster 2\n",
      "['BA', 'UA']\n"
     ]
    }
   ],
   "execution_count": 37
  }
 ],
 "metadata": {
  "kernelspec": {
   "display_name": "Python 3",
   "language": "python",
   "name": "python3"
  },
  "language_info": {
   "codemirror_mode": {
    "name": "ipython",
    "version": 2
   },
   "file_extension": ".py",
   "mimetype": "text/x-python",
   "name": "python",
   "nbconvert_exporter": "python",
   "pygments_lexer": "ipython2",
   "version": "2.7.6"
  }
 },
 "nbformat": 4,
 "nbformat_minor": 5
}
