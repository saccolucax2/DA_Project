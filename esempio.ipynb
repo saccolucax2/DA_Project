{
 "cells": [
  {
   "cell_type": "code",
   "id": "c40815f3a319ce57",
   "metadata": {
    "ExecuteTime": {
     "end_time": "2025-05-22T15:37:11.812571Z",
     "start_time": "2025-05-22T15:37:11.767114Z"
    }
   },
   "source": [
    "import pandas as pd\n",
    "from sklearn.cluster import KMeans\n",
    "from sklearn.preprocessing import StandardScaler\n",
    "\n",
    "# Carica il dataset\n",
    "dataset = pd.read_csv(r\"C:\\Users\\simon\\OneDrive\\Desktop\\estat_sts_copi_a_en.csv\\estat_sts_copi_a_en.csv\")\n",
    "\n",
    "# Elimina le colonne specificate\n",
    "dataset = dataset.drop(columns=['DATAFLOW', 'LAST UPDATE', 'freq', 'cpa2_1', 'CONF_STATUS'])\n",
    "\n",
    "# Filtra le righe dove OBS_FLAG è vuoto (rimuove righe con flag)\n",
    "dataset = dataset[dataset['OBS_FLAG'].isna() | (dataset['OBS_FLAG'] == '')]\n",
    "\n",
    "#dataset=dataset.drop(columns=['OBS_FLAG'])\n",
    "# Elimina le righe con TUTTE le colonne NaN\n",
    "dataset=dataset=dataset.dropna(how='all')\n",
    "\n",
    "dataset = dataset.fillna(dataset.mean(numeric_only=True))\n",
    "\n",
    "print(dataset)"
   ],
   "outputs": [
    {
     "name": "stdout",
     "output_type": "stream",
     "text": [
      "     indic_bt s_adj    unit geo  TIME_PERIOD  OBS_VALUE OBS_FLAG\n",
      "0        COST   NSA     I15  AL         2002       86.2      NaN\n",
      "1        COST   NSA     I15  AL         2003       88.6      NaN\n",
      "2        COST   NSA     I15  AL         2004       91.3      NaN\n",
      "3        COST   NSA     I15  AL         2005       92.5      NaN\n",
      "4        COST   NSA     I15  AL         2006       93.5      NaN\n",
      "...       ...   ...     ...  ..          ...        ...      ...\n",
      "5519  PRC_PRR   NSA  PCH_SM  UK         2005        5.5      NaN\n",
      "5520  PRC_PRR   NSA  PCH_SM  UK         2006        5.7      NaN\n",
      "5521  PRC_PRR   NSA  PCH_SM  UK         2007        3.2      NaN\n",
      "5522  PRC_PRR   NSA  PCH_SM  UK         2008        5.2      NaN\n",
      "5523  PRC_PRR   NSA  PCH_SM  UK         2009        2.7      NaN\n",
      "\n",
      "[3282 rows x 7 columns]\n"
     ]
    }
   ],
   "execution_count": 6
  },
  {
   "metadata": {
    "ExecuteTime": {
     "end_time": "2025-05-19T11:45:27.602757Z",
     "start_time": "2025-05-19T11:45:27.595288Z"
    }
   },
   "cell_type": "code",
   "source": [
    "\n",
    "# Crea la colonna 'serie' solo con 'geo' (dato che cpa2_1 è eliminata)\n",
    "dataset['serie'] = dataset['geo']\n",
    "\n",
    "# Crea la tabella pivot\n",
    "pivot_df = dataset.pivot_table(index='TIME_PERIOD', columns='serie', values='OBS_VALUE')\n"
   ],
   "id": "5a5d25817a3d3773",
   "outputs": [],
   "execution_count": 71
  },
  {
   "metadata": {
    "ExecuteTime": {
     "end_time": "2025-05-22T15:32:48.245519Z",
     "start_time": "2025-05-22T15:32:47.685225Z"
    }
   },
   "cell_type": "code",
   "source": [
    "\n",
    "# Trasponi per avere righe=serie, colonne=anni\n",
    "data = pivot_clean.T\n",
    "# 1. Rimuovi righe completamente vuote dopo la trasposizione\n",
    "data = data.dropna(how='all')\n",
    "\n",
    "# 2. Imputa i NaN rimanenti con la media per riga\n",
    "data_filled = data.fillna(data.mean(axis=1), axis=0)\n",
    "\n",
    "# 3. Se ci sono ancora NaN (righe con troppi valori nulli), puoi fare un fill con 0 oppure eliminarle\n",
    "if data_filled.isnull().sum().sum() > 0:\n",
    "    data_filled = data_filled.dropna()  # oppure data_filled.fillna(0)\n",
    "\n",
    "# Verifica finale\n",
    "print(\"Valori NaN rimasti:\", data_filled.isnull().sum().sum())  # Deve dare 0\n",
    "\n",
    "# Ora puoi andare avanti con lo scaling e clustering\n",
    "scaler = StandardScaler()\n",
    "data_scaled = scaler.fit_transform(data_filled)\n",
    "\n",
    "kmeans = KMeans(n_clusters=1, random_state=42, n_init=10)\n",
    "labels = kmeans.fit_predict(data_scaled)\n",
    "\n",
    "\n"
   ],
   "id": "80aff56c5e8bc292",
   "outputs": [
    {
     "ename": "NameError",
     "evalue": "name 'pivot_df' is not defined",
     "output_type": "error",
     "traceback": [
      "\u001B[31m---------------------------------------------------------------------------\u001B[39m",
      "\u001B[31mNameError\u001B[39m                                 Traceback (most recent call last)",
      "\u001B[36mCell\u001B[39m\u001B[36m \u001B[39m\u001B[32mIn[2]\u001B[39m\u001B[32m, line 2\u001B[39m\n\u001B[32m      1\u001B[39m \u001B[38;5;66;03m# Trasponi per avere righe=serie, colonne=anni\u001B[39;00m\n\u001B[32m----> \u001B[39m\u001B[32m2\u001B[39m data = \u001B[43mpivot_df\u001B[49m.T\n\u001B[32m      3\u001B[39m \u001B[38;5;66;03m# 1. Rimuovi righe completamente vuote dopo la trasposizione\u001B[39;00m\n\u001B[32m      4\u001B[39m data = data.dropna(how=\u001B[33m'\u001B[39m\u001B[33mall\u001B[39m\u001B[33m'\u001B[39m)\n",
      "\u001B[31mNameError\u001B[39m: name 'pivot_df' is not defined"
     ]
    }
   ],
   "execution_count": 2
  },
  {
   "metadata": {
    "ExecuteTime": {
     "end_time": "2025-05-19T11:47:38.676046Z",
     "start_time": "2025-05-19T11:47:38.671227Z"
    }
   },
   "cell_type": "code",
   "source": [
    "# Crea un DataFrame con le serie originali\n",
    "clustered_df = pd.DataFrame(data_filled)\n",
    "clustered_df['cluster'] = labels\n"
   ],
   "id": "5b9087cbdc0a005",
   "outputs": [],
   "execution_count": 76
  },
  {
   "metadata": {
    "ExecuteTime": {
     "end_time": "2025-05-19T11:47:51.596336Z",
     "start_time": "2025-05-19T11:47:51.589611Z"
    }
   },
   "cell_type": "code",
   "source": [
    "for i in range(kmeans.n_clusters):\n",
    "    print(f\"\\nCluster {i}\")\n",
    "    print(clustered_df[clustered_df['cluster'] == i].index.tolist())\n"
   ],
   "id": "7a513eac140079e4",
   "outputs": [
    {
     "name": "stdout",
     "output_type": "stream",
     "text": [
      "\n",
      "Cluster 0\n",
      "['FR']\n"
     ]
    }
   ],
   "execution_count": 77
  }
 ],
 "metadata": {
  "kernelspec": {
   "display_name": "Python 3",
   "language": "python",
   "name": "python3"
  },
  "language_info": {
   "codemirror_mode": {
    "name": "ipython",
    "version": 2
   },
   "file_extension": ".py",
   "mimetype": "text/x-python",
   "name": "python",
   "nbconvert_exporter": "python",
   "pygments_lexer": "ipython2",
   "version": "2.7.6"
  }
 },
 "nbformat": 4,
 "nbformat_minor": 5
}
